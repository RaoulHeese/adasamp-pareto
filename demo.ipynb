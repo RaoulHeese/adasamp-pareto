{
 "cells": [
  {
   "cell_type": "markdown",
   "metadata": {},
   "source": [
    "## Adaptive Optimization Demo\n",
    "\n",
    "Adaptive Sampling of Pareto Frontiers with Binary Constraints Using Regression and Classification"
   ]
  },
  {
   "cell_type": "markdown",
   "metadata": {},
   "source": [
    "### Load"
   ]
  },
  {
   "cell_type": "code",
   "execution_count": null,
   "metadata": {},
   "outputs": [],
   "source": [
    "%matplotlib inline\n",
    "\n",
    "from sampling import AdaptiveSampler\n",
    "from models import Y_Model_GPR, f_Model_SVM\n",
    "from demo import circle_simulator_func, circle_callback_func"
   ]
  },
  {
   "cell_type": "markdown",
   "metadata": {},
   "source": [
    "### Preferences"
   ]
  },
  {
   "cell_type": "code",
   "execution_count": null,
   "metadata": {},
   "outputs": [],
   "source": [
    "# Models\n",
    "Y_model = Y_Model_GPR()\n",
    "f_model = f_Model_SVM()\n",
    "\n",
    "# Functions\n",
    "simulation_func = circle_simulator_func # Replace with your own test function!\n",
    "callback_func = circle_callback_func # Set to None to disable plots and thus speed up the algorithm!\n",
    "\n",
    "# Initial sampling settings\n",
    "initial_samples = 12\n",
    "initial_sampling_func = \"random\"\n",
    "X_initial_sample_limits = [[.5,1.5],[-.5,.5]]\n",
    "\n",
    "# General settings\n",
    "seed = 42\n",
    "X_limits = [[-2,2],[-2,2]]\n",
    "Y_ref = [0,0]\n",
    "iterations = 75\n",
    "virtual_iterations = 1\n",
    "verbose = True\n",
    "\n",
    "# Build sampler\n",
    "sampler = AdaptiveSampler(simulation_func, X_limits, Y_ref, iterations, Y_model, f_model,\n",
    "                          initial_samples=initial_samples, initial_sampling_func=initial_sampling_func,\n",
    "                          X_initial_sample_limits=X_initial_sample_limits,\n",
    "                          callback_func=callback_func, virtual_iterations=virtual_iterations,\n",
    "                          seed=seed, verbose=verbose)"
   ]
  },
  {
   "cell_type": "markdown",
   "metadata": {},
   "source": [
    "### Perform sampling"
   ]
  },
  {
   "cell_type": "code",
   "execution_count": null,
   "metadata": {
    "scrolled": true
   },
   "outputs": [],
   "source": [
    "# Run the sampler with the chosen preferences and a set of optional keyword arguments for the simulator function.\n",
    "# Returns the sampling suggestions X, the corresponding goals Y, and the corresponding feasibilities f.\n",
    "X, Y, f = sampler.sample(power=2)"
   ]
  },
  {
   "cell_type": "markdown",
   "metadata": {},
   "source": [
    "### Show statistics"
   ]
  },
  {
   "cell_type": "code",
   "execution_count": null,
   "metadata": {},
   "outputs": [],
   "source": [
    "display(sampler.info)"
   ]
  },
  {
   "cell_type": "code",
   "execution_count": null,
   "metadata": {},
   "outputs": [],
   "source": [
    "import matplotlib.pyplot as plt\n",
    "\n",
    "plt.figure()\n",
    "plt.plot(sampler.info['evaluation_batches_time'])\n",
    "plt.xlabel(\"iteration\")\n",
    "plt.ylabel(\"evaluation_batches_time\")\n",
    "plt.show()"
   ]
  }
 ],
 "metadata": {
  "kernelspec": {
   "display_name": "Python 3",
   "language": "python",
   "name": "python3"
  },
  "language_info": {
   "codemirror_mode": {
    "name": "ipython",
    "version": 3
   },
   "file_extension": ".py",
   "mimetype": "text/x-python",
   "name": "python",
   "nbconvert_exporter": "python",
   "pygments_lexer": "ipython3",
   "version": "3.7.4"
  }
 },
 "nbformat": 4,
 "nbformat_minor": 2
}
